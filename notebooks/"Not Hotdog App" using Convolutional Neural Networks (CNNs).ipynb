{
 "cells": [
  {
   "cell_type": "markdown",
   "metadata": {},
   "source": [
    "<div align=\"center\">\n",
    "    <img src=\"res/img/logo-dl.png\" height=\"64\"/>\n",
    "    <h1>\n",
    "        Practical Deep Learning\n",
    "    </h1>\n",
    "    <h4>\n",
    "        \"Not Hotdog App\" using Convolutional Neural Networks (CNNs)\n",
    "    </h4>\n",
    "</div>"
   ]
  },
  {
   "cell_type": "markdown",
   "metadata": {},
   "source": [
    "### Not Hotdog?\n",
    "\n",
    "[![Not Hot Dog - Silicon Valley](https://i.imgur.com/koJD8Pb.jpg)](https://www.youtube.com/watch?v=ACmydtFDTGs \"Not Hot Dog\")"
   ]
  },
  {
   "cell_type": "markdown",
   "metadata": {},
   "source": [
    "### Table of Contents\n",
    "* #### [Convolutional Neural Networks](#convolutional-neural-networks)\n",
    "    * [Overview](#overview)\n",
    "    * [Applications](#applications)\n",
    "    * [Architecture](#architecture)\n",
    "    \n",
    "* #### [Not Hotdog]()\n",
    "    * [Problem Statement]()"
   ]
  },
  {
   "cell_type": "markdown",
   "metadata": {},
   "source": [
    "### Convolutional Neural Networks (CNNs)"
   ]
  },
  {
   "cell_type": "markdown",
   "metadata": {},
   "source": [
    "#### Overview\n",
    "\n",
    "<p align=\"justify\">\n",
    "    Convolutional Neural Networks are great for <b>classifiying images</b>. In fact, the very architecture of such networks are built with an intention to feed in images as inputs. To help you understand in a lay man's term, imagine there exists a *black-box* that takes an image (an image of a hotdog or not) and splits out whether the input image being fed was in fact, an image of a hotdog.\n",
    "</p>\n",
    "\n",
    "##### Wait, that's it?\n",
    "<p align=\"justify\">\n",
    "    What makes this quite a complex problem is that there are a gazillion probabilities of various kinds of hotdogs - hotdogs with cheese, hotdogs without cheese, with tomato or mustard sauce, Chili dog, etc. Also, whether the hotdog is on a plate, or on one's hand, the combinations are endless! Let's not forget other possibilities of scale, orientation, etc. And we (or the *black-box*) needs to cater to almost all such possibilities.\n",
    "</p>\n",
    "\n",
    "#### How does a computer sees an image?\n",
    "<p align=\"justify\">\n",
    "    An image consists of 3 properties - width, height (also known as the resolution of the image) and a depth ( also known as the channel of the image). For most cases, an image file is encoded as an RGB (or Red-Blue-Green) Channels. Each channel within the image is a matrix of dimensions width x height consisting values within the range 0 to 255. Such layers of channels then combine to form a single colorized digital image.\n",
    "</p>\n",
    "\n",
    "<p>\n",
    "    <img align=\"center\" src=\"res/img/image-channels.png\"/>\n",
    "</p>\n",
    "\n",
    "#### Let's take it simpler.\n",
    "<p align=\"justify\">\n",
    "    Before moving to Hotdogs, let's consider a simple example where the goal is to classify our MNIST data set containing grayscale images (or a channel depth equal to 1). We'll have them preprocessed further to make this more understandable.\n",
    "</p>"
   ]
  },
  {
   "cell_type": "code",
   "execution_count": null,
   "metadata": {},
   "outputs": [],
   "source": []
  },
  {
   "cell_type": "markdown",
   "metadata": {},
   "source": [
    "#### Applications"
   ]
  },
  {
   "cell_type": "code",
   "execution_count": null,
   "metadata": {},
   "outputs": [],
   "source": []
  },
  {
   "cell_type": "markdown",
   "metadata": {},
   "source": [
    "#### Architecture"
   ]
  },
  {
   "cell_type": "markdown",
   "metadata": {},
   "source": [
    "### \"Not Hotdog\""
   ]
  },
  {
   "cell_type": "markdown",
   "metadata": {},
   "source": [
    "#### Data Gathering"
   ]
  },
  {
   "cell_type": "code",
   "execution_count": null,
   "metadata": {},
   "outputs": [],
   "source": []
  }
 ],
 "metadata": {
  "kernelspec": {
   "display_name": "Python 3",
   "language": "python",
   "name": "python3"
  },
  "language_info": {
   "codemirror_mode": {
    "name": "ipython",
    "version": 3
   },
   "file_extension": ".py",
   "mimetype": "text/x-python",
   "name": "python",
   "nbconvert_exporter": "python",
   "pygments_lexer": "ipython3",
   "version": "3.6.3"
  }
 },
 "nbformat": 4,
 "nbformat_minor": 2
}
